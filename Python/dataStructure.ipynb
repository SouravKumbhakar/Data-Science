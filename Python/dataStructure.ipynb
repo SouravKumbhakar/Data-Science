{
 "cells": [
  {
   "cell_type": "markdown",
   "id": "089d22c3",
   "metadata": {},
   "source": [
    "### 1) List\n",
    "\n",
    "- List are orderd , mutable collection of items\n",
    "- They can contain items of different data types"
   ]
  },
  {
   "cell_type": "code",
   "execution_count": 1,
   "id": "dd39e172",
   "metadata": {},
   "outputs": [
    {
     "name": "stdout",
     "output_type": "stream",
     "text": [
      "<class 'list'>\n"
     ]
    }
   ],
   "source": [
    "lst = []\n",
    "print(type(lst))"
   ]
  },
  {
   "cell_type": "code",
   "execution_count": 4,
   "id": "d3412ecd",
   "metadata": {},
   "outputs": [
    {
     "name": "stdout",
     "output_type": "stream",
     "text": [
      "<class 'list'>\n",
      "['Alice', 'Bob', 'Charlie', 1, 2, 3, 4, 5]\n"
     ]
    }
   ],
   "source": [
    "names= [\"Alice\", \"Bob\", \"Charlie\",1,2,3,4,5]\n",
    "print(type(names))\n",
    "print(names)"
   ]
  },
  {
   "cell_type": "code",
   "execution_count": 7,
   "id": "781f8828",
   "metadata": {},
   "outputs": [
    {
     "name": "stdout",
     "output_type": "stream",
     "text": [
      "apple\n",
      "cherry\n",
      "date\n",
      "['banana', 'cherry']\n",
      "['apple', 'banana']\n",
      "['banana', 'cherry', 'date']\n",
      "['banana', 'cherry', 'date']\n",
      "['apple', 'cherry']\n",
      "['date', 'cherry', 'banana', 'apple']\n",
      "cherry\n",
      "['banana', 'cherry']\n",
      "['banana', 'cherry', 'date']\n",
      "['banana', 'cherry']\n",
      "['banana', 'cherry', 'date']\n"
     ]
    }
   ],
   "source": [
    "## Accessing List elements\n",
    "\n",
    "fruits = [\"apple\", \"banana\", \"cherry\", \"date\"]\n",
    "print(fruits[0])  # Accessing the first element\n",
    "print(fruits[2])  # Accessing the third element\n",
    "print(fruits[-1])  # Accessing the last element\n",
    "\n",
    "\n",
    "print(fruits[1:3])  # Slicing to get a sublist (from index 1 to 2)\n",
    "print(fruits[:2])   # Slicing to get the first two elements\n",
    "print(fruits[1:])   # Slicing to get all elements from index 1 onwards\n",
    "print(fruits[-3:])  # Slicing to get the last three elements\n",
    "print(fruits[::2])  # Slicing to get every second element\n",
    "print(fruits[::-1])  # Reversing the list using slicing\n",
    "print(fruits[-2])  # Accessing the second last element\n",
    "print(fruits[-3:-1])  # Slicing to get elements from index -3 to -2 (exclusive of -1)\n",
    "print(fruits[-3:])  # Slicing to get the last three elements\n",
    "print(fruits[-3:-1])  # Slicing to get elements from index -3 to -2 (exclusive of -1)\n",
    "print(fruits[-3:])  # Slicing to get the last three elements\n"
   ]
  }
 ],
 "metadata": {
  "kernelspec": {
   "display_name": "base",
   "language": "python",
   "name": "python3"
  },
  "language_info": {
   "codemirror_mode": {
    "name": "ipython",
    "version": 3
   },
   "file_extension": ".py",
   "mimetype": "text/x-python",
   "name": "python",
   "nbconvert_exporter": "python",
   "pygments_lexer": "ipython3",
   "version": "3.13.5"
  }
 },
 "nbformat": 4,
 "nbformat_minor": 5
}
