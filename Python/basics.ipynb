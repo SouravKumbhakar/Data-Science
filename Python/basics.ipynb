{
 "cells": [
  {
   "cell_type": "markdown",
   "id": "2a366cd4",
   "metadata": {},
   "source": [
    "## Basic Syntax rule"
   ]
  },
  {
   "cell_type": "code",
   "execution_count": null,
   "id": "111c31a9",
   "metadata": {},
   "outputs": [
    {
     "name": "stdout",
     "output_type": "stream",
     "text": [
      "Iron man \n",
      "Hulk\n"
     ]
    }
   ],
   "source": [
    "#case Sensitive [This is a single line comment]\n",
    "''' This is a multi-line comment'''\n",
    "\n",
    "# 1) Python is case sensitive\n",
    "\n",
    "name = \"Iron man \"\n",
    "Name = \"Hulk\"\n",
    "\n",
    "print(name)\n",
    "print(Name) \n",
    "\n",
    "# Both variables are different due to case sensitivity\n"
   ]
  },
  {
   "cell_type": "code",
   "execution_count": 5,
   "id": "887beb8e",
   "metadata": {},
   "outputs": [
    {
     "name": "stdout",
     "output_type": "stream",
     "text": [
      "You are older than 30\n"
     ]
    }
   ],
   "source": [
    "# 2) Indentation is important in Python\n",
    "\n",
    "age= 32\n",
    "if age > 30:\n",
    "    print(\"You are older than 30\") # This line is indented"
   ]
  },
  {
   "cell_type": "code",
   "execution_count": 13,
   "id": "7d2c65de",
   "metadata": {},
   "outputs": [
    {
     "ename": "IndentationError",
     "evalue": "expected an indented block after 'if' statement on line 4 (1874859028.py, line 5)",
     "output_type": "error",
     "traceback": [
      "\u001b[1;36m  Cell \u001b[1;32mIn[13], line 5\u001b[1;36m\u001b[0m\n\u001b[1;33m    print(\"You are older than 30\") # This line is not indented\u001b[0m\n\u001b[1;37m    ^\u001b[0m\n\u001b[1;31mIndentationError\u001b[0m\u001b[1;31m:\u001b[0m expected an indented block after 'if' statement on line 4\n"
     ]
    }
   ],
   "source": [
    "## what error occur?\n",
    "\n",
    "age= 32\n",
    "if age > 30:\n",
    "print(\"You are older than 30\") # This line is not indented"
   ]
  },
  {
   "cell_type": "code",
   "execution_count": 6,
   "id": "5c97c791",
   "metadata": {},
   "outputs": [
    {
     "name": "stdout",
     "output_type": "stream",
     "text": [
      "Total is: 55\n"
     ]
    }
   ],
   "source": [
    "# 3) Line continuation\n",
    "# If a statement is too long, you can use a backslash to continue it on the next line\n",
    "\n",
    "total = 1 + 2 + 3 + 4 + 5 + \\\n",
    "        6 + 7 + 8 + 9 + 10  \n",
    "print(\"Total is:\", total)\n"
   ]
  },
  {
   "cell_type": "code",
   "execution_count": 7,
   "id": "7af1fa01",
   "metadata": {},
   "outputs": [
    {
     "name": "stdout",
     "output_type": "stream",
     "text": [
      "x: 5 y: 10 z: 15\n"
     ]
    }
   ],
   "source": [
    "# 4) multiple statements on a single line\n",
    "x = 5; y = 10; z = 15\n",
    "print(\"x:\", x, \"y:\", y, \"z:\", z)"
   ]
  },
  {
   "cell_type": "markdown",
   "id": "512feace",
   "metadata": {},
   "source": [
    "## Understanding semantics in python\n"
   ]
  },
  {
   "cell_type": "code",
   "execution_count": 11,
   "id": "fbd6f575",
   "metadata": {},
   "outputs": [
    {
     "data": {
      "text/plain": [
       "int"
      ]
     },
     "execution_count": 11,
     "metadata": {},
     "output_type": "execute_result"
    }
   ],
   "source": [
    "# Variable assignment\n",
    "a = 10 # kernal automatically assigns the value 10 to variable a as an integer\n",
    "type(a)\n"
   ]
  },
  {
   "cell_type": "code",
   "execution_count": null,
   "id": "c2616c3a",
   "metadata": {},
   "outputs": [
    {
     "data": {
      "text/plain": [
       "str"
      ]
     },
     "execution_count": 10,
     "metadata": {},
     "output_type": "execute_result"
    }
   ],
   "source": [
    "\n",
    "type(name)"
   ]
  },
  {
   "cell_type": "code",
   "execution_count": 12,
   "id": "e7538473",
   "metadata": {},
   "outputs": [
    {
     "name": "stdout",
     "output_type": "stream",
     "text": [
      "<class 'int'>\n",
      "<class 'str'>\n"
     ]
    }
   ],
   "source": [
    "## type inference \n",
    "\n",
    "variable = 10\n",
    "print(type(variable))\n",
    "variable = \"Hello\"\n",
    "print(type(variable))"
   ]
  },
  {
   "cell_type": "markdown",
   "id": "d78c2a09",
   "metadata": {},
   "source": [
    "## 2) Variables\n"
   ]
  },
  {
   "cell_type": "code",
   "execution_count": null,
   "id": "42cf4747",
   "metadata": {},
   "outputs": [
    {
     "name": "stdout",
     "output_type": "stream",
     "text": [
      "19 <class 'int'>\n",
      "5.9 <class 'float'>\n",
      "True <class 'bool'>\n",
      "Sourav <class 'str'>\n"
     ]
    }
   ],
   "source": [
    "age = 19\n",
    "height = 5.9\n",
    "is_student = True   \n",
    "name = \"Sourav\"\n",
    "\n",
    "print(age, type(age))\n",
    "print(height, type(height))\n",
    "print(is_student, type(is_student)) \n",
    "print(name, type(name))\n",
    "\n",
    "# python is dynamically typed, meaning you don't need to declare the type of a variable explicitly. The type is inferred at runtime based on the value assigned to the variable."
   ]
  },
  {
   "cell_type": "code",
   "execution_count": 20,
   "id": "b5449f2a",
   "metadata": {},
   "outputs": [
    {
     "name": "stdout",
     "output_type": "stream",
     "text": [
      "19 <class 'str'>\n",
      "25 <class 'int'>\n",
      "65 <class 'int'>\n"
     ]
    },
    {
     "ename": "ValueError",
     "evalue": "invalid literal for int() with base 10: 'sourav'",
     "output_type": "error",
     "traceback": [
      "\u001b[1;31m---------------------------------------------------------------------------\u001b[0m",
      "\u001b[1;31mValueError\u001b[0m                                Traceback (most recent call last)",
      "Cell \u001b[1;32mIn[20], line 16\u001b[0m\n\u001b[0;32m     13\u001b[0m \u001b[38;5;28mprint\u001b[39m(alpha_int, \u001b[38;5;28mtype\u001b[39m(alpha_int))\n\u001b[0;32m     15\u001b[0m name \u001b[38;5;241m=\u001b[39m \u001b[38;5;124m\"\u001b[39m\u001b[38;5;124msourav\u001b[39m\u001b[38;5;124m\"\u001b[39m\n\u001b[1;32m---> 16\u001b[0m name_int \u001b[38;5;241m=\u001b[39m \u001b[38;5;28mint\u001b[39m(name)  \u001b[38;5;66;03m# cannot Convert string to integer\u001b[39;00m\n\u001b[0;32m     17\u001b[0m \u001b[38;5;28mprint\u001b[39m(name_int, \u001b[38;5;28mtype\u001b[39m(name_int))\n",
      "\u001b[1;31mValueError\u001b[0m: invalid literal for int() with base 10: 'sourav'"
     ]
    }
   ],
   "source": [
    "# Type conversion\n",
    "\n",
    "age = 19\n",
    "age_str = str(age)  # Convert integer to string\n",
    "print(age_str, type(age_str))\n",
    "\n",
    "num ='25'\n",
    "num_int = int(num)  # Convert string to integer\n",
    "print(num_int, type(num_int))\n",
    "\n",
    "alpha = 'A'\n",
    "alpha_int = ord(alpha)  # Convert character to its ASCII integer value\n",
    "print(alpha_int, type(alpha_int))\n",
    "\n",
    "name = \"sourav\"\n",
    "name_int = int(name)  # cannot Convert string to integer\n",
    "print(name_int, type(name_int))\n"
   ]
  },
  {
   "cell_type": "code",
   "execution_count": 21,
   "id": "ad185ec7",
   "metadata": {},
   "outputs": [
    {
     "ename": "TypeError",
     "evalue": "can only concatenate str (not \"int\") to str",
     "output_type": "error",
     "traceback": [
      "\u001b[1;31m---------------------------------------------------------------------------\u001b[0m",
      "\u001b[1;31mTypeError\u001b[0m                                 Traceback (most recent call last)",
      "Cell \u001b[1;32mIn[21], line 3\u001b[0m\n\u001b[0;32m      1\u001b[0m \u001b[38;5;66;03m## Common error\u001b[39;00m\n\u001b[1;32m----> 3\u001b[0m result \u001b[38;5;241m=\u001b[39m \u001b[38;5;124m\"\u001b[39m\u001b[38;5;124mChai\u001b[39m\u001b[38;5;124m\"\u001b[39m \u001b[38;5;241m+\u001b[39m \u001b[38;5;241m5\u001b[39m  \u001b[38;5;66;03m# This will raise an error because you cannot concatenate a string and an integer\u001b[39;00m\n\u001b[0;32m      4\u001b[0m \u001b[38;5;28mprint\u001b[39m(result)\n",
      "\u001b[1;31mTypeError\u001b[0m: can only concatenate str (not \"int\") to str"
     ]
    }
   ],
   "source": [
    "## Common error\n",
    "\n",
    "result = \"Chai\" + 5  # This will raise an error because you cannot concatenate a string and an integer\n",
    "print(result)"
   ]
  },
  {
   "cell_type": "code",
   "execution_count": 22,
   "id": "0350659a",
   "metadata": {},
   "outputs": [
    {
     "name": "stdout",
     "output_type": "stream",
     "text": [
      "Chai5\n"
     ]
    }
   ],
   "source": [
    "result = \"Chai\" + str(5)  # Correct way to concatenate a string and an integer\n",
    "print(result)"
   ]
  },
  {
   "cell_type": "markdown",
   "id": "eebbbac2",
   "metadata": {},
   "source": [
    "## 3) Operators\n",
    "\n",
    "### ARITHMETIC OPERATORS\n",
    "- Addition \n",
    "- Substruction\n",
    "- Multiplication\n",
    "- Division\n",
    "- Floor Division\n",
    "- Modulus\n",
    "- Exponentiation"
   ]
  },
  {
   "cell_type": "code",
   "execution_count": 25,
   "id": "361958f0",
   "metadata": {},
   "outputs": [
    {
     "name": "stdout",
     "output_type": "stream",
     "text": [
      "Addition: 25\n",
      "Subtraction: -5\n",
      "Multiplication: 150\n",
      "Division: 0.6666666666666666\n",
      "Floor Division: 0\n",
      "Modulus: 10\n",
      "Exponentiation: 1000000000000000\n"
     ]
    }
   ],
   "source": [
    "a = 10\n",
    "b = 15\n",
    "\n",
    "add_result = a + b  # Addition\n",
    "sub_result = a - b  # Subtraction   \n",
    "mul_result = a * b  # Multiplication\n",
    "div_result = a / b  # Division\n",
    "floor_div_result = a // b  # Floor Division\n",
    "mod_result = a % b  # Modulus\n",
    "exp_result = a ** b  # Exponentiation\n",
    "print(\"Addition:\", add_result)\n",
    "print(\"Subtraction:\", sub_result)\n",
    "print(\"Multiplication:\", mul_result)\n",
    "print(\"Division:\", div_result)\n",
    "print(\"Floor Division:\", floor_div_result)\n",
    "print(\"Modulus:\", mod_result)\n",
    "print(\"Exponentiation:\", exp_result)\n"
   ]
  },
  {
   "cell_type": "code",
   "execution_count": 26,
   "id": "9f69bd74",
   "metadata": {},
   "outputs": [
    {
     "name": "stdout",
     "output_type": "stream",
     "text": [
      "Normal Division Result: 3.3333333333333335\n",
      "Floor Division Result: 3\n"
     ]
    }
   ],
   "source": [
    "# Normal division\n",
    "result = 10 / 3 \n",
    "print(\"Normal Division Result:\", result)\n",
    "# Floor division\n",
    "result = 10 // 3\n",
    "print(\"Floor Division Result:\", result)"
   ]
  },
  {
   "cell_type": "markdown",
   "id": "769b0073",
   "metadata": {},
   "source": [
    "### COMPARISION OPERATORS\n",
    "- Equal to\n",
    "- Not equal to\n",
    "- Greater than \n",
    "- Less than\n",
    "- Greater than or equal to\n",
    "- Less than or equal to"
   ]
  },
  {
   "cell_type": "code",
   "execution_count": null,
   "id": "a20d969f",
   "metadata": {},
   "outputs": [
    {
     "name": "stdout",
     "output_type": "stream",
     "text": [
      "True\n",
      "True\n",
      "False\n",
      "False\n",
      "True\n",
      "True\n"
     ]
    }
   ],
   "source": [
    "#Comparison Operators returns a boolean value (True or False) based on the comparison of two values.\n",
    "\n",
    "a = 10\n",
    "b = 10\n",
    "\n",
    "result = (a==b)\n",
    "print(result)\n",
    "\n",
    "str1 = \"Tony stark\"\n",
    "str2 = \"iron man\"\n",
    "\n",
    "print(str1 != str2)\n",
    "print(a>b)\n",
    "print(a<b)\n",
    "print(a>=b)\n",
    "print(a<=b)\n",
    "\n",
    "\n"
   ]
  },
  {
   "cell_type": "markdown",
   "id": "65ebbdb4",
   "metadata": {},
   "source": [
    "### LOGICAL OPERATORS\n",
    "- AND\n",
    "- OR\n",
    "- NOT"
   ]
  },
  {
   "cell_type": "code",
   "execution_count": 1,
   "id": "659e5313",
   "metadata": {},
   "outputs": [
    {
     "name": "stdout",
     "output_type": "stream",
     "text": [
      "False\n",
      "True\n",
      "False\n"
     ]
    }
   ],
   "source": [
    "x = True\n",
    "y = False\n",
    "\n",
    "print(x and y)  # Logical AND\n",
    "print(x or y)   # Logical OR    \n",
    "print(not x)    # Logical NOT\n"
   ]
  }
 ],
 "metadata": {
  "kernelspec": {
   "display_name": "base",
   "language": "python",
   "name": "python3"
  },
  "language_info": {
   "codemirror_mode": {
    "name": "ipython",
    "version": 3
   },
   "file_extension": ".py",
   "mimetype": "text/x-python",
   "name": "python",
   "nbconvert_exporter": "python",
   "pygments_lexer": "ipython3",
   "version": "3.13.5"
  }
 },
 "nbformat": 4,
 "nbformat_minor": 5
}
