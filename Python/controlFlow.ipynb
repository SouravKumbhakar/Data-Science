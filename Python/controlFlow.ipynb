{
 "cells": [
  {
   "cell_type": "markdown",
   "id": "c8dff2de",
   "metadata": {},
   "source": [
    "## 1) Conditional Statement"
   ]
  },
  {
   "cell_type": "code",
   "execution_count": 1,
   "id": "761d36a2",
   "metadata": {},
   "outputs": [
    {
     "name": "stdout",
     "output_type": "stream",
     "text": [
      "You are eligible to vote.\n",
      "You are an adult.\n"
     ]
    }
   ],
   "source": [
    "# if\n",
    "age =20\n",
    "if age >= 18:\n",
    "    print(\"You are eligible to vote.\")\n",
    "# else\n",
    "else:\n",
    "    print(\"You are not eligible to vote.\")\n",
    "\n",
    "# elif\n",
    "if age < 18:\n",
    "    print(\"You are a minor.\")\n",
    "elif age >= 18 and age < 60:\n",
    "    print(\"You are an adult.\")\n",
    "else:\n",
    "    print(\"You are a senior citizen.\")  \n",
    "            "
   ]
  },
  {
   "cell_type": "code",
   "execution_count": 2,
   "id": "0dd11b89",
   "metadata": {},
   "outputs": [
    {
     "name": "stdout",
     "output_type": "stream",
     "text": [
      "2024 is a leap year.\n"
     ]
    }
   ],
   "source": [
    "## Nested if statements\n",
    "year = 2024\n",
    "# Leap year checker using nested if statements\n",
    "if year % 4 == 0:\n",
    "    if year % 100 == 0:\n",
    "        if year % 400 == 0:\n",
    "            print(f\"{year} is a leap year.\")\n",
    "        else:\n",
    "            print(f\"{year} is not a leap year.\")\n",
    "    else:\n",
    "        print(f\"{year} is a leap year.\")\n",
    "else:\n",
    "    print(f\"{year} is not a leap year.\")"
   ]
  },
  {
   "cell_type": "markdown",
   "id": "cd70b186",
   "metadata": {},
   "source": [
    "## 2) Loops\n"
   ]
  },
  {
   "cell_type": "code",
   "execution_count": 6,
   "id": "3f612d5c",
   "metadata": {},
   "outputs": [
    {
     "name": "stdout",
     "output_type": "stream",
     "text": [
      "Iteration: 1\n",
      "Iteration: 2\n",
      "Iteration: 3\n",
      "Iteration: 4\n",
      "Iteration: 5\n",
      "1\n",
      "3\n",
      "5\n",
      "7\n",
      "9\n",
      "10\n",
      "9\n",
      "8\n",
      "7\n",
      "6\n",
      "5\n",
      "4\n",
      "3\n",
      "2\n",
      "1\n"
     ]
    }
   ],
   "source": [
    "#for loop\n",
    "\n",
    "for i in range(1, 6):\n",
    "    print(\"Iteration:\", i)\n",
    "\n",
    "for i in range(1, 11 , 2): # Step of 2\n",
    "    print(i)\n",
    "    \n",
    "for i in range(10, 0, -1): # Reverse order\n",
    "    print(i)        "
   ]
  },
  {
   "cell_type": "code",
   "execution_count": 7,
   "id": "018279f3",
   "metadata": {},
   "outputs": [
    {
     "name": "stdout",
     "output_type": "stream",
     "text": [
      "J\n",
      "o\n",
      "h\n",
      "n\n",
      " \n",
      "w\n",
      "i\n",
      "c\n",
      "k\n"
     ]
    }
   ],
   "source": [
    "## strings\n",
    "\n",
    "name = \"John wick\"\n",
    "\n",
    "for i in name:\n",
    "    print(i)    "
   ]
  },
  {
   "cell_type": "code",
   "execution_count": 8,
   "id": "9dfff9aa",
   "metadata": {},
   "outputs": [
    {
     "name": "stdout",
     "output_type": "stream",
     "text": [
      "Count is: 0\n",
      "Count is: 1\n",
      "Count is: 2\n",
      "Count is: 3\n",
      "Count is: 4\n"
     ]
    }
   ],
   "source": [
    "# 2) WHile loop\n",
    "## the while loop is continued as long as the condition is true\n",
    "count = 0\n",
    "while count < 5:\n",
    "    print(\"Count is:\", count)\n",
    "    count += 1  # Increment the count by 1"
   ]
  },
  {
   "cell_type": "code",
   "execution_count": 9,
   "id": "358efc32",
   "metadata": {},
   "outputs": [
    {
     "name": "stdout",
     "output_type": "stream",
     "text": [
      "1\n",
      "2\n",
      "3\n",
      "4\n",
      "5\n"
     ]
    }
   ],
   "source": [
    "# 3) Loop control statements\n",
    "\n",
    "# break\n",
    "#   The break statement is used to exit a loop prematurely.\n",
    "for i in range(1, 11):  \n",
    "    if i == 6:\n",
    "        break  # Exit the loop when i is 6\n",
    "    print(i)     "
   ]
  },
  {
   "cell_type": "code",
   "execution_count": 10,
   "id": "99954501",
   "metadata": {},
   "outputs": [
    {
     "name": "stdout",
     "output_type": "stream",
     "text": [
      "1\n",
      "3\n",
      "5\n",
      "7\n",
      "9\n"
     ]
    }
   ],
   "source": [
    "#Continue\n",
    "#   The continue statement skips the current iteration and moves to the next iteration of the loop. \n",
    "\n",
    "for i in range(10):\n",
    "    if i % 2 == 0:\n",
    "        continue  # Skip even numbers\n",
    "    print(i)  # This will only print odd numbers"
   ]
  },
  {
   "cell_type": "code",
   "execution_count": null,
   "id": "3673cc08",
   "metadata": {},
   "outputs": [
    {
     "name": "stdout",
     "output_type": "stream",
     "text": [
      "0\n",
      "1\n",
      "2\n",
      "3\n",
      "4\n"
     ]
    }
   ],
   "source": [
    "#Pass\n",
    "# The pass statement is a null operation; it does nothing when executed. It is often used as a placeholder in loops or conditional statements where code will be added later.\n",
    "for i in range(5):\n",
    "    if i % 2==0:\n",
    "        pass  \n",
    "    print(i)  # This will print all numbers from 0 to 4, including 2"
   ]
  },
  {
   "cell_type": "code",
   "execution_count": 12,
   "id": "4f84cccd",
   "metadata": {},
   "outputs": [
    {
     "name": "stdout",
     "output_type": "stream",
     "text": [
      "i: 1, j: 1\n",
      "i: 1, j: 2\n",
      "i: 1, j: 3\n",
      "i: 2, j: 1\n",
      "i: 2, j: 2\n",
      "i: 2, j: 3\n",
      "i: 3, j: 1\n",
      "i: 3, j: 2\n",
      "i: 3, j: 3\n"
     ]
    }
   ],
   "source": [
    "# Nested Loops\n",
    "for i in range(1, 4):  # Outer loop\n",
    "    for j in range(1, 4):  # Inner loop\n",
    "        print(f\"i: {i}, j: {j}\") \n",
    "\n",
    "\n",
    "# Nested loops are useful for iterating over multi-dimensional data structures, such as lists of lists or matrices.\n",
    "# They can also be used for more complex tasks, such as generating combinations or permutations of elements"
   ]
  },
  {
   "cell_type": "code",
   "execution_count": null,
   "id": "680abb16",
   "metadata": {},
   "outputs": [
    {
     "name": "stdout",
     "output_type": "stream",
     "text": [
      "The sum of the first 10 natural numbers is: 55\n",
      "The sum of the first 10 natural numbers is: 55\n"
     ]
    }
   ],
   "source": [
    "'''Calculate the sum of first n natural numbers using a for loop'''\n",
    "\n",
    "n= 10\n",
    "sum_n = 0\n",
    "for i in range(1, n + 1):\n",
    "    sum_n += i\n",
    "print(f\"The sum of the first {n} natural numbers is: {sum_n}\")\n",
    "\n",
    "#while loop example\n",
    "    \n",
    "sum_n = 0\n",
    "count = 1\n",
    "while count <= n:\n",
    "    sum_n += count\n",
    "    count += 1\n",
    "print(f\"The sum of the first {n} natural numbers is: {sum_n}\")\n"
   ]
  },
  {
   "cell_type": "code",
   "execution_count": 15,
   "id": "95d46e86",
   "metadata": {},
   "outputs": [
    {
     "name": "stdout",
     "output_type": "stream",
     "text": [
      "2 3 5 7 11 13 17 19 23 29 31 37 41 43 47 53 59 61 67 71 73 79 83 89 97 "
     ]
    }
   ],
   "source": [
    "''' Prime number bwetween 1 and 100'''\n",
    "for num in range(2, 101):\n",
    "    is_prime = True\n",
    "    for i in range(2, int(num**0.5) + 1):\n",
    "        if num % i == 0:\n",
    "            is_prime = False\n",
    "            break\n",
    "    if is_prime:\n",
    "        print(num, end=' ')\n",
    "        "
   ]
  }
 ],
 "metadata": {
  "kernelspec": {
   "display_name": "base",
   "language": "python",
   "name": "python3"
  },
  "language_info": {
   "codemirror_mode": {
    "name": "ipython",
    "version": 3
   },
   "file_extension": ".py",
   "mimetype": "text/x-python",
   "name": "python",
   "nbconvert_exporter": "python",
   "pygments_lexer": "ipython3",
   "version": "3.13.5"
  }
 },
 "nbformat": 4,
 "nbformat_minor": 5
}
